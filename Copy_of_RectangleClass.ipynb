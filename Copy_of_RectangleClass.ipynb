{
  "nbformat": 4,
  "nbformat_minor": 0,
  "metadata": {
    "colab": {
      "provenance": [],
      "authorship_tag": "ABX9TyNCyh0kzxMvoMV8ZFSNpXWR",
      "include_colab_link": true
    },
    "kernelspec": {
      "name": "python3",
      "display_name": "Python 3"
    },
    "language_info": {
      "name": "python"
    }
  },
  "cells": [
    {
      "cell_type": "markdown",
      "metadata": {
        "id": "view-in-github",
        "colab_type": "text"
      },
      "source": [
        "<a href=\"https://colab.research.google.com/github/rohitrai1310/python3/blob/master/Copy_of_RectangleClass.ipynb\" target=\"_parent\"><img src=\"https://colab.research.google.com/assets/colab-badge.svg\" alt=\"Open In Colab\"/></a>"
      ]
    },
    {
      "cell_type": "code",
      "execution_count": null,
      "metadata": {
        "id": "7Q8jQ1aZIfJr"
      },
      "outputs": [],
      "source": [
        "class Rectangle():\n",
        "\n",
        "  ## create constructor \n",
        "  def __init__(self , length , width):\n",
        "    self.length = length\n",
        "    self.width = width \n",
        "    \n",
        "\n",
        "  ## will display length and width of the rectangle \n",
        "  def __str__(self):\n",
        "    return(\" \\n length of rectangle is: {} \\n width of rectangle is: {}\".format(self.length , self.width)) \n",
        "\n",
        "\n",
        "  ## method to to calculate the perimeter of the rectangle \n",
        "\n",
        "  def perimeter(self):\n",
        "\n",
        "    perimeter = 2 * (self.length + self.width)  \n",
        "\n",
        "    print(\"\\n perimeter of the rectangle is :\" , perimeter )\n",
        "\n",
        "  \n",
        "  ## method to calculate area of rectanlge \n",
        "\n",
        "  def area(self):\n",
        "\n",
        "    area = self.length * self.width\n",
        "\n",
        "    print (\"\\narea of the rectangle is :\" , area)\n",
        "\n",
        "  ## method to display the length, width, perimeter and area of the rectangle \n",
        "\n",
        "  def display(self):\n",
        "\n",
        "    print(\"\\n length of rectangle is: \" , self.length)\n",
        "\n",
        "    print( \"\\n width of rectangle is: \", self.width)\n",
        "\n",
        "    self.perimeter()\n",
        "\n",
        "    self.area()\n"
      ]
    },
    {
      "cell_type": "code",
      "source": [
        "my_rectangle = Rectangle(3,4)\n",
        "\n",
        "print(my_rectangle)\n",
        "\n",
        "my_rectangle.perimeter()\n",
        "\n",
        "\n",
        "my_rectangle.area()\n",
        "\n",
        "my_rectangle.display()"
      ],
      "metadata": {
        "colab": {
          "base_uri": "https://localhost:8080/"
        },
        "id": "TUAmefLUK-UY",
        "outputId": "c998ed49-311b-476a-f8a9-dfa805384dff"
      },
      "execution_count": null,
      "outputs": [
        {
          "output_type": "stream",
          "name": "stdout",
          "text": [
            " \n",
            " length of rectangle is: 3 \n",
            " width of rectangle is: 4\n",
            "\n",
            " perimeter of the rectangle is : 14\n",
            "\n",
            "area of the rectangle is : 12\n",
            "\n",
            " length of rectangle is:  3\n",
            "\n",
            " width of rectangle is:  4\n",
            "\n",
            " perimeter of the rectangle is : 14\n",
            "\n",
            "area of the rectangle is : 12\n"
          ]
        }
      ]
    },
    {
      "cell_type": "code",
      "source": [
        "class BankAccount():\n",
        "\n",
        "  def __init__(self , accountNumber ,name,balance) :\n",
        "\n",
        "    self.accountNumber = accountNumber\n",
        "\n",
        "    self.name = name\n",
        "\n",
        "    self.balance = balance\n",
        "\n",
        "  def __str__(self):\n",
        "\n",
        "    return(\"your account number is : {} \\n your name is : {} \\n your balance is : {}\".format(self.accountNumber ,self.name ,self.balance ) )\n"
      ],
      "metadata": {
        "id": "Zaf0NVYUDbi8"
      },
      "execution_count": null,
      "outputs": []
    }
  ]
}