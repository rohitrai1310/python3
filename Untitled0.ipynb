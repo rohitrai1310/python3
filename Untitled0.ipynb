{
  "nbformat": 4,
  "nbformat_minor": 0,
  "metadata": {
    "colab": {
      "provenance": [],
      "authorship_tag": "ABX9TyNufrCu7qsLQkiBEazMy6J3",
      "include_colab_link": true
    },
    "kernelspec": {
      "name": "python3",
      "display_name": "Python 3"
    },
    "language_info": {
      "name": "python"
    }
  },
  "cells": [
    {
      "cell_type": "markdown",
      "metadata": {
        "id": "view-in-github",
        "colab_type": "text"
      },
      "source": [
        "<a href=\"https://colab.research.google.com/github/rohitrai1310/python3/blob/master/Untitled0.ipynb\" target=\"_parent\"><img src=\"https://colab.research.google.com/assets/colab-badge.svg\" alt=\"Open In Colab\"/></a>"
      ]
    },
    {
      "cell_type": "markdown",
      "source": [
        "# New Section"
      ],
      "metadata": {
        "id": "bUQA_VoKjR1j"
      }
    },
    {
      "cell_type": "markdown",
      "source": [
        "# New Section"
      ],
      "metadata": {
        "id": "0viZLLoXjay1"
      }
    },
    {
      "cell_type": "code",
      "execution_count": null,
      "metadata": {
        "colab": {
          "base_uri": "https://localhost:8080/"
        },
        "id": "OGi0br9au4nD",
        "outputId": "78aa93ff-40e8-4fc7-d9c7-5ddc7e4ac3b4"
      },
      "outputs": [
        {
          "output_type": "execute_result",
          "data": {
            "text/plain": [
              "[]"
            ]
          },
          "metadata": {},
          "execution_count": 2
        }
      ],
      "source": [
        "l = list()\n",
        "l"
      ]
    },
    {
      "cell_type": "code",
      "source": [
        "class Atm:\n",
        "  #constructor \n",
        "  def __init__(self):\n",
        "    print(id(self))\n",
        "    self.pin = ''\n",
        "    self.balance = 0\n",
        "    self.menu() ## this will automatically execute and call menu function \n",
        "\n",
        "  def menu(self):\n",
        "\n",
        "    user_input = input(\"\"\" \n",
        "\n",
        "    Hi how can i help you ?\n",
        "\n",
        "    1. Press 1 to create pin \n",
        "    2. Press 2 to change pin\n",
        "    3. Press 3 to check balance\n",
        "    4. press 4 to withdraw \n",
        "    5. anything else to exit\n",
        "     \"\"\")\n",
        "    \n",
        "    if user_input == \"1\":\n",
        "      # create pin\n",
        "      self.create_pin()\n",
        "    elif user_input == \"2\":\n",
        "      # change pin\n",
        "      self.change_pin() \n",
        "      pass\n",
        "    elif user_input == \"3\":\n",
        "      # check balance\n",
        "      self.check_balance()\n",
        "      pass\n",
        "    elif user_input == \"4\":\n",
        "      # withdraw \n",
        "      self.withdraw_balance()\n",
        "      pass\n",
        "    else:\n",
        "      exit()\n",
        "\n",
        "  def create_pin(self):\n",
        "    user_pin = input(\"enter your pin : \")\n",
        "    self.pin = user_pin\n",
        "\n",
        "    user_balance = int(input(\" enter your balance : \"))\n",
        "    self.balance = user_balance\n",
        "\n",
        "    print (\"pin created successfuly\")\n",
        "    self.menu()\n",
        "\n",
        "  def change_pin(self):\n",
        "    old_pin = input(\"enter your new pin\")\n",
        "\n",
        "    if self.pin == old_pin:\n",
        "      new_pin = input(\"enter your new pin : \")\n",
        "      self.pin = new_pin\n",
        "      print(\" pin changed successfuly\")\n",
        "    else:\n",
        "      self.menu()  \n",
        "\n",
        " \n",
        "  def check_balance(self):\n",
        "    user_pin = input(\"enter your pin : \")\n",
        "    if self.pin == user_pin:\n",
        "      print(\" your balance is \", self.balance)\n",
        "      self.menu()\n",
        "    else:\n",
        "      self.menu()\n",
        "  \n",
        "  def withdraw_balance(self):\n",
        "    user_pin = input(\"enter your pin : \")\n",
        "    if self.pin == user_pin:\n",
        "      amount = int(input(\"please enter your amount : \"))\n",
        "      if self.balance >= amount :\n",
        "        self.balance = self.balance - amount\n",
        "        print(\" this is your new balance :\" , self.balance)\n",
        "      else:\n",
        "        print(\" you have insufficient balance\")\n",
        "    else:\n",
        "      print(\" your password is incorrect\")\n",
        "    self.menu()\n",
        "\n",
        "\n",
        "\n",
        "    \n",
        "    \n",
        "\n",
        "\n"
      ],
      "metadata": {
        "id": "0Fn3vSCi0_TV"
      },
      "execution_count": null,
      "outputs": []
    },
    {
      "cell_type": "markdown",
      "source": [],
      "metadata": {
        "id": "saKWA3e6pHpB"
      }
    },
    {
      "cell_type": "code",
      "source": [
        "sbi = Atm()\n",
        "id(sbi)"
      ],
      "metadata": {
        "colab": {
          "base_uri": "https://localhost:8080/"
        },
        "id": "qBW_mcGVfRYt",
        "outputId": "8a812a00-7adf-446e-a1df-a0c8c978b94b"
      },
      "execution_count": null,
      "outputs": [
        {
          "name": "stdout",
          "output_type": "stream",
          "text": [
            "139694392026736\n",
            " \n",
            "\n",
            "    Hi how can i help you ?\n",
            "\n",
            "    1. Press 1 to create pin \n",
            "    2. Press 2 to change pin\n",
            "    3. Press 3 to check balance\n",
            "    4. press 4 to withdraw \n",
            "    5. anything else to exit\n",
            "     5\n"
          ]
        },
        {
          "output_type": "execute_result",
          "data": {
            "text/plain": [
              "139694392026736"
            ]
          },
          "metadata": {},
          "execution_count": 4
        }
      ]
    },
    {
      "cell_type": "code",
      "source": [
        "sbi = Atm()\n",
        "sbi.check_balance()"
      ],
      "metadata": {
        "colab": {
          "base_uri": "https://localhost:8080/"
        },
        "id": "UBOefh1YfW1Q",
        "outputId": "af7c3133-275d-4f4d-d658-b09bd62a2831"
      },
      "execution_count": null,
      "outputs": [
        {
          "metadata": {
            "tags": null
          },
          "name": "stdout",
          "output_type": "stream",
          "text": [
            "140294965820576\n"
          ]
        }
      ]
    }
  ]
}